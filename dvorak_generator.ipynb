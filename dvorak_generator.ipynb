{
 "cells": [
  {
   "cell_type": "markdown",
   "metadata": {},
   "source": [
    "# Dvorak Mash Generator\n"
   ]
  },
  {
   "cell_type": "markdown",
   "metadata": {},
   "source": [
    "## 1. Imports\n",
    "\n",
    "To create a Python 3.8 virtual environment:\n",
    "\n",
    "- Linux: `python3.8 -m venv ./venv/`\n",
    "- Windows: `py -3.8 -m venv ./venv/`\n",
    "\n",
    "To activate the virtual environment:\n",
    "\n",
    "- Bash: `. ./venv/bin/activate`\n",
    "- PowerShell: `Set-ExecutionPolicy -ExecutionPolicy Unrestricted -Scope CurrentUser; ./venv/bin/Activate.ps1`\n",
    "\n",
    "To deactivate the virtual environment:\n",
    "\n",
    "- `deactivate`\n"
   ]
  },
  {
   "cell_type": "code",
   "execution_count": 6,
   "metadata": {},
   "outputs": [],
   "source": [
    "import numpy as np\n",
    "\n",
    "with open(\"./data/data.txt\") as f:\n",
    "\tdata = list(map(str.strip, f.readlines()))"
   ]
  },
  {
   "cell_type": "markdown",
   "metadata": {},
   "source": [
    "## 2. ???"
   ]
  },
  {
   "cell_type": "code",
   "execution_count": 7,
   "metadata": {},
   "outputs": [
    {
     "name": "stdout",
     "output_type": "stream",
     "text": [
      "['etnuhsthaneoutnoeu-', 'eauthnoeustnhaoeusnthaeotsnusaoetueaou', 'ihisthouaisnhaueinsuishuih', 'eonuthahoeustaoestuheopu', 'thaoeusteoau', \"snhtaeouhtnaoeunhtsaoenthuaoehusntasthnehtsoenau'tshneaoshnteaouhtsaoeushtnaoehutaoehuasoehtnunhtaeounhtaoeu\", 'bichce,ocuhsoeuhtsa-eoue,o', 'tnehoaushtaoetunsaoeu', 'snatoheutnseaountshoeauhstnaoeshnuta,h.tnsua,.', 'heounhoaesuhntoaeutnsaoeu', 'ntheuonstoeuhtsnoeu', 'unohunoehutneohustnahousnthaou', 'lnheontustanohutnsoeutnhsoe', 'utheaosetunbeo;u', 'nthssntheousnoute', 'nthsaeushtnoaeuhnstaoeubtnsaouestnaoeusnbtoaeusta', 'ntheoutnshaoeushtnaoetsnhua', 'tnsoehutnsoaehustnoeutnsoeau', 'snhtaouenhtsoauehsntaoeusnhtaeunhstaoeuhnstouesnhtuaoeshntaouetneuoshtaeuaohtnehtnsuthnseustneuothnaeuohtneuohtnhnteuohtoenshtnnsht', 'nhteouhuteonuoe', 'enuhaentsuou', 'nthaoeutnshaoetunba,.tnuba,tsnutsna,hutnaoeutnbaeotnus']\n"
     ]
    }
   ],
   "source": [
    "print(data)"
   ]
  }
 ],
 "metadata": {
  "interpreter": {
   "hash": "11b624ce844b12f405053ce61acc1964266d9f895f575fc56806db0bd5dee76e"
  },
  "kernelspec": {
   "display_name": "Python 3.8.12 64-bit",
   "language": "python",
   "name": "python3"
  },
  "language_info": {
   "codemirror_mode": {
    "name": "ipython",
    "version": 3
   },
   "file_extension": ".py",
   "mimetype": "text/x-python",
   "name": "python",
   "nbconvert_exporter": "python",
   "pygments_lexer": "ipython3",
   "version": "3.8.12"
  },
  "orig_nbformat": 4
 },
 "nbformat": 4,
 "nbformat_minor": 2
}
